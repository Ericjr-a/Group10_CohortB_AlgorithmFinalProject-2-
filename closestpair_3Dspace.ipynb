{
 "cells": [
  {
   "cell_type": "code",
   "execution_count": 1,
   "id": "02b08728-23c9-4e03-9dc6-46edfdb3773a",
   "metadata": {},
   "outputs": [],
   "source": [
    "import pandas as pd\n",
    "import numpy as np\n",
    "import plotly.graph_objects as go\n",
    "import math\n"
   ]
  },
  {
   "cell_type": "code",
   "execution_count": 2,
   "id": "d55bc2c2-bff4-4d2a-bcb6-192be9ae2351",
   "metadata": {},
   "outputs": [],
   "source": [
    "df = pd.read_csv('/Users/ericjr/Documents/GitHub/Group10_CohortB_AlgorithmFinalProject/3D_VisualVar_10M.pbbs', delim_whitespace=True, header=None, skiprows=1)\n",
    "df.columns = ['x', 'y', 'z'] "
   ]
  },
  {
   "cell_type": "code",
   "execution_count": 3,
   "id": "ecced766-4eed-4b30-8675-694fe6ece9f2",
   "metadata": {},
   "outputs": [],
   "source": [
    "df_sampled = df.head(200)  # Sampling the data\n",
    "points = list(df_sampled.itertuples(index=False, name=None))\n",
    "\n"
   ]
  },
  {
   "cell_type": "code",
   "execution_count": 4,
   "id": "d5baed4c-66ed-42c8-8dfc-2ced215b6c91",
   "metadata": {},
   "outputs": [],
   "source": [
    "#df_clean = df.apply(pd.to_numeric, errors='coerce').dropna()\n"
   ]
  },
  {
   "cell_type": "code",
   "execution_count": null,
   "id": "a964abac-b465-47f2-b530-16219ef1820d",
   "metadata": {},
   "outputs": [],
   "source": []
  },
  {
   "cell_type": "code",
   "execution_count": 5,
   "id": "75531b18-a2c7-4b3f-b4d7-16a7f4c95c7b",
   "metadata": {},
   "outputs": [],
   "source": [
    "# converting the cleaned df to a list of tuples\n",
    "#points = list(df_clean.itertuples(index=False, name=None))\n"
   ]
  },
  {
   "cell_type": "code",
   "execution_count": 6,
   "id": "6dfa7323-04c0-4e43-94ea-861ea92f9fa7",
   "metadata": {},
   "outputs": [
    {
     "data": {
      "text/html": [
       "<div>\n",
       "<style scoped>\n",
       "    .dataframe tbody tr th:only-of-type {\n",
       "        vertical-align: middle;\n",
       "    }\n",
       "\n",
       "    .dataframe tbody tr th {\n",
       "        vertical-align: top;\n",
       "    }\n",
       "\n",
       "    .dataframe thead th {\n",
       "        text-align: right;\n",
       "    }\n",
       "</style>\n",
       "<table border=\"1\" class=\"dataframe\">\n",
       "  <thead>\n",
       "    <tr style=\"text-align: right;\">\n",
       "      <th></th>\n",
       "      <th>x</th>\n",
       "      <th>y</th>\n",
       "      <th>z</th>\n",
       "    </tr>\n",
       "  </thead>\n",
       "  <tbody>\n",
       "    <tr>\n",
       "      <th>0</th>\n",
       "      <td>44263.0</td>\n",
       "      <td>10849.0</td>\n",
       "      <td>49131.0</td>\n",
       "    </tr>\n",
       "    <tr>\n",
       "      <th>1</th>\n",
       "      <td>44313.0</td>\n",
       "      <td>10806.0</td>\n",
       "      <td>49069.0</td>\n",
       "    </tr>\n",
       "    <tr>\n",
       "      <th>2</th>\n",
       "      <td>44214.0</td>\n",
       "      <td>10772.0</td>\n",
       "      <td>49133.0</td>\n",
       "    </tr>\n",
       "    <tr>\n",
       "      <th>3</th>\n",
       "      <td>44235.0</td>\n",
       "      <td>10824.0</td>\n",
       "      <td>49072.0</td>\n",
       "    </tr>\n",
       "    <tr>\n",
       "      <th>4</th>\n",
       "      <td>44256.0</td>\n",
       "      <td>10941.0</td>\n",
       "      <td>49145.0</td>\n",
       "    </tr>\n",
       "    <tr>\n",
       "      <th>5</th>\n",
       "      <td>44345.0</td>\n",
       "      <td>10850.0</td>\n",
       "      <td>49142.0</td>\n",
       "    </tr>\n",
       "    <tr>\n",
       "      <th>6</th>\n",
       "      <td>44224.0</td>\n",
       "      <td>10895.0</td>\n",
       "      <td>49058.0</td>\n",
       "    </tr>\n",
       "    <tr>\n",
       "      <th>7</th>\n",
       "      <td>44188.0</td>\n",
       "      <td>10810.0</td>\n",
       "      <td>49168.0</td>\n",
       "    </tr>\n",
       "    <tr>\n",
       "      <th>8</th>\n",
       "      <td>44304.0</td>\n",
       "      <td>10790.0</td>\n",
       "      <td>49140.0</td>\n",
       "    </tr>\n",
       "    <tr>\n",
       "      <th>9</th>\n",
       "      <td>44177.0</td>\n",
       "      <td>10873.0</td>\n",
       "      <td>49107.0</td>\n",
       "    </tr>\n",
       "  </tbody>\n",
       "</table>\n",
       "</div>"
      ],
      "text/plain": [
       "         x        y        z\n",
       "0  44263.0  10849.0  49131.0\n",
       "1  44313.0  10806.0  49069.0\n",
       "2  44214.0  10772.0  49133.0\n",
       "3  44235.0  10824.0  49072.0\n",
       "4  44256.0  10941.0  49145.0\n",
       "5  44345.0  10850.0  49142.0\n",
       "6  44224.0  10895.0  49058.0\n",
       "7  44188.0  10810.0  49168.0\n",
       "8  44304.0  10790.0  49140.0\n",
       "9  44177.0  10873.0  49107.0"
      ]
     },
     "execution_count": 6,
     "metadata": {},
     "output_type": "execute_result"
    }
   ],
   "source": [
    "df_sampled.head(10)\n"
   ]
  },
  {
   "cell_type": "code",
   "execution_count": 7,
   "id": "acc06580-da76-4b67-8b95-96aa7c111c77",
   "metadata": {},
   "outputs": [
    {
     "data": {
      "text/html": [
       "<div>\n",
       "<style scoped>\n",
       "    .dataframe tbody tr th:only-of-type {\n",
       "        vertical-align: middle;\n",
       "    }\n",
       "\n",
       "    .dataframe tbody tr th {\n",
       "        vertical-align: top;\n",
       "    }\n",
       "\n",
       "    .dataframe thead th {\n",
       "        text-align: right;\n",
       "    }\n",
       "</style>\n",
       "<table border=\"1\" class=\"dataframe\">\n",
       "  <thead>\n",
       "    <tr style=\"text-align: right;\">\n",
       "      <th></th>\n",
       "      <th>x</th>\n",
       "      <th>y</th>\n",
       "      <th>z</th>\n",
       "    </tr>\n",
       "  </thead>\n",
       "  <tbody>\n",
       "    <tr>\n",
       "      <th>0</th>\n",
       "      <td>44263.0</td>\n",
       "      <td>10849.0</td>\n",
       "      <td>49131.0</td>\n",
       "    </tr>\n",
       "    <tr>\n",
       "      <th>1</th>\n",
       "      <td>44313.0</td>\n",
       "      <td>10806.0</td>\n",
       "      <td>49069.0</td>\n",
       "    </tr>\n",
       "    <tr>\n",
       "      <th>2</th>\n",
       "      <td>44214.0</td>\n",
       "      <td>10772.0</td>\n",
       "      <td>49133.0</td>\n",
       "    </tr>\n",
       "    <tr>\n",
       "      <th>3</th>\n",
       "      <td>44235.0</td>\n",
       "      <td>10824.0</td>\n",
       "      <td>49072.0</td>\n",
       "    </tr>\n",
       "    <tr>\n",
       "      <th>4</th>\n",
       "      <td>44256.0</td>\n",
       "      <td>10941.0</td>\n",
       "      <td>49145.0</td>\n",
       "    </tr>\n",
       "  </tbody>\n",
       "</table>\n",
       "</div>"
      ],
      "text/plain": [
       "         x        y        z\n",
       "0  44263.0  10849.0  49131.0\n",
       "1  44313.0  10806.0  49069.0\n",
       "2  44214.0  10772.0  49133.0\n",
       "3  44235.0  10824.0  49072.0\n",
       "4  44256.0  10941.0  49145.0"
      ]
     },
     "execution_count": 7,
     "metadata": {},
     "output_type": "execute_result"
    }
   ],
   "source": [
    "df.head()"
   ]
  },
  {
   "cell_type": "code",
   "execution_count": 8,
   "id": "98d9a376-4e05-4986-98e4-d8dd023c1edd",
   "metadata": {},
   "outputs": [
    {
     "data": {
      "text/html": [
       "<div>\n",
       "<style scoped>\n",
       "    .dataframe tbody tr th:only-of-type {\n",
       "        vertical-align: middle;\n",
       "    }\n",
       "\n",
       "    .dataframe tbody tr th {\n",
       "        vertical-align: top;\n",
       "    }\n",
       "\n",
       "    .dataframe thead th {\n",
       "        text-align: right;\n",
       "    }\n",
       "</style>\n",
       "<table border=\"1\" class=\"dataframe\">\n",
       "  <thead>\n",
       "    <tr style=\"text-align: right;\">\n",
       "      <th></th>\n",
       "      <th>x</th>\n",
       "      <th>y</th>\n",
       "      <th>z</th>\n",
       "    </tr>\n",
       "  </thead>\n",
       "  <tbody>\n",
       "    <tr>\n",
       "      <th>195</th>\n",
       "      <td>44423.0</td>\n",
       "      <td>10767.0</td>\n",
       "      <td>49171.0</td>\n",
       "    </tr>\n",
       "    <tr>\n",
       "      <th>196</th>\n",
       "      <td>44334.0</td>\n",
       "      <td>10815.0</td>\n",
       "      <td>49140.0</td>\n",
       "    </tr>\n",
       "    <tr>\n",
       "      <th>197</th>\n",
       "      <td>44299.0</td>\n",
       "      <td>10775.0</td>\n",
       "      <td>49173.0</td>\n",
       "    </tr>\n",
       "    <tr>\n",
       "      <th>198</th>\n",
       "      <td>44432.0</td>\n",
       "      <td>10745.0</td>\n",
       "      <td>49198.0</td>\n",
       "    </tr>\n",
       "    <tr>\n",
       "      <th>199</th>\n",
       "      <td>44319.0</td>\n",
       "      <td>10735.0</td>\n",
       "      <td>49298.0</td>\n",
       "    </tr>\n",
       "  </tbody>\n",
       "</table>\n",
       "</div>"
      ],
      "text/plain": [
       "           x        y        z\n",
       "195  44423.0  10767.0  49171.0\n",
       "196  44334.0  10815.0  49140.0\n",
       "197  44299.0  10775.0  49173.0\n",
       "198  44432.0  10745.0  49198.0\n",
       "199  44319.0  10735.0  49298.0"
      ]
     },
     "execution_count": 8,
     "metadata": {},
     "output_type": "execute_result"
    }
   ],
   "source": [
    "df_sampled.tail()\n"
   ]
  },
  {
   "cell_type": "code",
   "execution_count": 9,
   "id": "4ebe1a15-efa4-4aed-a649-1144a5a4cb86",
   "metadata": {},
   "outputs": [
    {
     "data": {
      "text/html": [
       "<div>\n",
       "<style scoped>\n",
       "    .dataframe tbody tr th:only-of-type {\n",
       "        vertical-align: middle;\n",
       "    }\n",
       "\n",
       "    .dataframe tbody tr th {\n",
       "        vertical-align: top;\n",
       "    }\n",
       "\n",
       "    .dataframe thead th {\n",
       "        text-align: right;\n",
       "    }\n",
       "</style>\n",
       "<table border=\"1\" class=\"dataframe\">\n",
       "  <thead>\n",
       "    <tr style=\"text-align: right;\">\n",
       "      <th></th>\n",
       "      <th>x</th>\n",
       "      <th>y</th>\n",
       "      <th>z</th>\n",
       "    </tr>\n",
       "  </thead>\n",
       "  <tbody>\n",
       "    <tr>\n",
       "      <th>0</th>\n",
       "      <td>44263.0</td>\n",
       "      <td>10849.0</td>\n",
       "      <td>49131.0</td>\n",
       "    </tr>\n",
       "    <tr>\n",
       "      <th>1</th>\n",
       "      <td>44313.0</td>\n",
       "      <td>10806.0</td>\n",
       "      <td>49069.0</td>\n",
       "    </tr>\n",
       "    <tr>\n",
       "      <th>2</th>\n",
       "      <td>44214.0</td>\n",
       "      <td>10772.0</td>\n",
       "      <td>49133.0</td>\n",
       "    </tr>\n",
       "    <tr>\n",
       "      <th>3</th>\n",
       "      <td>44235.0</td>\n",
       "      <td>10824.0</td>\n",
       "      <td>49072.0</td>\n",
       "    </tr>\n",
       "    <tr>\n",
       "      <th>4</th>\n",
       "      <td>44256.0</td>\n",
       "      <td>10941.0</td>\n",
       "      <td>49145.0</td>\n",
       "    </tr>\n",
       "  </tbody>\n",
       "</table>\n",
       "</div>"
      ],
      "text/plain": [
       "         x        y        z\n",
       "0  44263.0  10849.0  49131.0\n",
       "1  44313.0  10806.0  49069.0\n",
       "2  44214.0  10772.0  49133.0\n",
       "3  44235.0  10824.0  49072.0\n",
       "4  44256.0  10941.0  49145.0"
      ]
     },
     "execution_count": 9,
     "metadata": {},
     "output_type": "execute_result"
    }
   ],
   "source": [
    "df_sampled.head()\n"
   ]
  },
  {
   "cell_type": "code",
   "execution_count": 10,
   "id": "936542c4-2914-4f5f-b82b-1165e78d3d72",
   "metadata": {},
   "outputs": [
    {
     "name": "stdout",
     "output_type": "stream",
     "text": [
      "<class 'pandas.core.frame.DataFrame'>\n",
      "RangeIndex: 200 entries, 0 to 199\n",
      "Data columns (total 3 columns):\n",
      " #   Column  Non-Null Count  Dtype  \n",
      "---  ------  --------------  -----  \n",
      " 0   x       200 non-null    float64\n",
      " 1   y       200 non-null    float64\n",
      " 2   z       200 non-null    float64\n",
      "dtypes: float64(3)\n",
      "memory usage: 4.8 KB\n"
     ]
    }
   ],
   "source": [
    "df_sampled.info() \n"
   ]
  },
  {
   "cell_type": "code",
   "execution_count": 11,
   "id": "928cef4a-1147-4f69-b6bb-c2f98432bf2d",
   "metadata": {},
   "outputs": [],
   "source": [
    "\n",
    "# Calculate Euclidean distance between two 3D points\n",
    "def dist(p1, p2):\n",
    "    # Use the Euclidean distance formula for 3D space\n",
    "    return math.sqrt((p1[0] - p2[0]) ** 2 + (p1[1] - p2[1]) ** 2 + (p1[2] - p2[2]) ** 2)\n",
    "\n",
    "# Brute force approach to find closest point pairs\n",
    "def brute_force(points, min_dist):\n",
    "    closest_pairs = set()  # Initializing an empty set to store closest point pairs\n",
    "    n = len(points)  # Number of points\n",
    "    for i in range(n):\n",
    "        for j in range(i + 1, n):  # Compare each point with every other point\n",
    "            d = dist(points[i], points[j])  # Calculate distance between points\n",
    "            if d < min_dist:  # If the distance is less than the current minimum\n",
    "                min_dist = d  # Update minimum distance\n",
    "                closest_pairs = {frozenset({points[i], points[j]})}  # Reset closest pairs( to remove duplicates)\n",
    "            elif d == min_dist:  # If distance equals the current minimum\n",
    "                closest_pairs.add(frozenset({points[i], points[j]}))  # Add pair to closest pairs\n",
    "    return closest_pairs, min_dist\n",
    "\n",
    "# Find closest pairs in a strip of points\n",
    "def strip_closest(strip, min_dist):\n",
    "    closest_pairs = set()\n",
    "    strip.sort(key=lambda point: point[1])  # Sort strip by y-coordinate\n",
    "    for i in range(len(strip)):\n",
    "        for j in range(i + 1, min(i + 7, len(strip))):\n",
    "            d = dist(strip[i], strip[j])\n",
    "            if d < min_dist:\n",
    "                min_dist = d\n",
    "                closest_pairs = {frozenset({strip[i], strip[j]})}\n",
    "            elif d == min_dist:\n",
    "                closest_pairs.add(frozenset({strip[i], strip[j]}))\n",
    "    return closest_pairs, min_dist\n",
    "\n",
    "# Recursive function to find closest pair of points\n",
    "def closest_pair_rec(points_x, points_z, points_y, min_dist):\n",
    "    if len(points_x) <= 3:  # Base case to if there 3 or fewer points, then use brute force\n",
    "        return brute_force(points_x, float('inf'))\n",
    "    \n",
    "    # Dividing the points around the median point\n",
    "    mid = len(points_x) // 2\n",
    "    mid_point = points_x[mid]\n",
    "\n",
    "    # Spliting the  points into left and right halves based on x-coordinate\n",
    "    pl_x, pr_x = points_x[:mid], points_x[mid:]\n",
    "    pl_y, pr_y = [p for p in points_y if p[0] <= mid_point[0]], [p for p in points_y if p[0] > mid_point[0]]\n",
    "    pl_z, pr_z = [p for p in points_z if p[0] <= mid_point[0]], [p for p in points_z if p[0] > mid_point[0]]\n",
    "\n",
    "    # Recursively find closest pairs in the left and right halves\n",
    "    closest_pairs_left, dist_left = closest_pair_rec(pl_x, pl_z, pl_y, float('inf'))\n",
    "    closest_pairs_right, dist_right = closest_pair_rec(pr_x, pr_z, pr_y, float('inf'))\n",
    "\n",
    "    # finding the smallest distance\n",
    "    min_dist = min(dist_left, dist_right)\n",
    "    closest_pairs = closest_pairs_left.union(closest_pairs_right)\n",
    "\n",
    "    # Create a strip around the median point and find closest pairs within the strip\n",
    "    strip = [p for p in points_y if abs(p[0] - mid_point[0]) < min_dist]\n",
    "    closest_pairs_strip, strip_dist = strip_closest(strip, min_dist)\n",
    "    if strip_dist < min_dist:\n",
    "        closest_pairs = closest_pairs_strip\n",
    "    else:\n",
    "        closest_pairs = closest_pairs.union(closest_pairs_strip)\n",
    "\n",
    "    return closest_pairs, min_dist\n",
    "\n",
    "# Main function to find closest pairs of points in 3D\n",
    "def closest_pair_3d(points, collision_threshold):\n",
    "    if not points:  # If there are no points \n",
    "        return set()  # Return an empty set\n",
    "\n",
    "    # Sort points by each coordinate\n",
    "    points_x = sorted(points, key=lambda p: p[0])\n",
    "    points_y = sorted(points, key=lambda p: p[1])\n",
    "    points_z = sorted(points, key=lambda p: p[2])\n",
    "\n",
    "    # Find closest pairs using the recursive function\n",
    "    closest_pairs, _ = closest_pair_rec(points_x, points_z, points_y, collision_threshold)\n",
    "    return closest_pairs"
   ]
  },
  {
   "cell_type": "code",
   "execution_count": 12,
   "id": "50f3cdf7-41bb-4fb8-94c6-1ade31007907",
   "metadata": {},
   "outputs": [],
   "source": [
    "collision_threshold = 10000\n",
    "closest_collision_pairs = closest_pair_3d(points, collision_threshold)\n"
   ]
  },
  {
   "cell_type": "code",
   "execution_count": 13,
   "id": "5edfe4f8-f49f-44bb-8561-f43f48a723f6",
   "metadata": {},
   "outputs": [
    {
     "data": {
      "text/plain": [
       "{frozenset({(44301.0, 10774.0, 49141.0), (44305.0, 10774.0, 49147.0)})}"
      ]
     },
     "execution_count": 13,
     "metadata": {},
     "output_type": "execute_result"
    }
   ],
   "source": [
    "closest_collision_pairs\n"
   ]
  },
  {
   "cell_type": "code",
   "execution_count": 14,
   "id": "58130ca9-e43f-4842-a88a-8420adf61e6e",
   "metadata": {},
   "outputs": [],
   "source": [
    "#def verify_points_within_threshold(points, threshold):\n",
    " #   for i in range(len(points)):\n",
    "  #      for j in range(i + 1, len(points)):\n",
    "   #         if dist(points[i], points[j]) < threshold:\n",
    "    #            print(f\"Points within threshold found: {points[i]} and {points[j]}\")\n",
    "     #           return True\n",
    "   # print(\"No points within the specified threshold.\")\n",
    "    #return False\n",
    "\n",
    "\n",
    "#verify_points_within_threshold(points, collision_threshold)\n"
   ]
  },
  {
   "cell_type": "code",
   "execution_count": 15,
   "id": "f0bf7956-af59-48c1-a81e-e0e0d2a29bef",
   "metadata": {},
   "outputs": [],
   "source": [
    "x_values, y_values, z_values = zip(*points)  # Unpacking point coordinates for plotting\n",
    "\n"
   ]
  },
  {
   "cell_type": "code",
   "execution_count": 16,
   "id": "63207025-e85c-4794-9b01-6a66a11f6534",
   "metadata": {},
   "outputs": [],
   "source": [
    "#3D scatter plot for all points\n",
    "fig = go.Figure(data=[go.Scatter3d(x=x_values, y=y_values, z=z_values,\n",
    "                                   mode='markers',\n",
    "                                   marker=dict(size=5, opacity=0.8, color='blue'),\n",
    "                                   name='All Points')])\n"
   ]
  },
  {
   "cell_type": "code",
   "execution_count": 17,
   "id": "16bd08c5-4d3f-45b7-b2b3-cdbdd8a29a4b",
   "metadata": {},
   "outputs": [],
   "source": [
    "if closest_collision_pairs:\n",
    "    for pair in closest_collision_pairs:\n",
    "        (x1, y1, z1), (x2, y2, z2) = pair\n",
    "        px, py, pz = [x1, x2], [y1, y2], [z1, z2]  # coordinates for plotting\n",
    "\n",
    "        fig.add_trace(go.Scatter3d(x=px, y=py, z=pz,\n",
    "                                   mode='markers+lines',\n",
    "                                   marker=dict(color='red', size=5),\n",
    "                                   name='Closest Pair/Collision'))"
   ]
  },
  {
   "cell_type": "code",
   "execution_count": 18,
   "id": "3bd706e4-9bc7-4f32-843e-2d0e7271b080",
   "metadata": {},
   "outputs": [],
   "source": [
    "#fig.update_layout(margin=dict(l=0, r=0, b=0, t=0),\n",
    " #                 scene=dict(\n",
    "  #                    xaxis_title='X-coordinate',\n",
    "   #                   yaxis_title='Y-coordinate',\n",
    "    #                  zaxis_title='Z-coordinate'),\n",
    "     #             title='3D Collision Detection Visualization')\n",
    "\n"
   ]
  },
  {
   "cell_type": "code",
   "execution_count": 19,
   "id": "71d83a69-d54d-4c56-b1ea-4be7ddd48858",
   "metadata": {},
   "outputs": [
    {
     "data": {
      "application/vnd.plotly.v1+json": {
       "config": {
        "plotlyServerURL": "https://plot.ly"
       },
       "data": [
        {
         "marker": {
          "color": "blue",
          "opacity": 0.8,
          "size": 5
         },
         "mode": "markers",
         "name": "All Points",
         "type": "scatter3d",
         "x": [
          44263,
          44313,
          44214,
          44235,
          44256,
          44345,
          44224,
          44188,
          44304,
          44177,
          44301,
          44261,
          44268,
          44267,
          44232,
          44197,
          44322,
          44204,
          44319,
          44281,
          44216,
          44326,
          44192,
          44295,
          44241,
          44194,
          44328,
          44324,
          44225,
          44234,
          44230,
          44212,
          44339,
          44324,
          44271,
          44250,
          44237,
          44269,
          44208,
          44168,
          44221,
          44300,
          44299,
          44332,
          44279,
          44319,
          44263,
          44329,
          44303,
          44297,
          44306,
          44295,
          44305,
          44286,
          44250,
          44227,
          44199,
          44316,
          44291,
          44317,
          44285,
          44192,
          44259,
          44223,
          44290,
          44260,
          44256,
          44288,
          44277,
          44275,
          44273,
          44274,
          44338,
          44221,
          44295,
          44245,
          44285,
          44236,
          44331,
          44287,
          44247,
          44224,
          44288,
          44221,
          44282,
          44300,
          44289,
          44197,
          44273,
          44234,
          44245,
          44214,
          44319,
          44178,
          44200,
          44325,
          44250,
          44290,
          44199,
          44243,
          44349,
          44368,
          44430,
          44393,
          44410,
          44295,
          44284,
          44351,
          44265,
          44367,
          44336,
          44437,
          44338,
          44323,
          44291,
          44316,
          44326,
          44379,
          44416,
          44423,
          44430,
          44358,
          44283,
          44302,
          44296,
          44267,
          44337,
          44404,
          44360,
          44293,
          44365,
          44362,
          44342,
          44399,
          44399,
          44375,
          44385,
          44328,
          44291,
          44397,
          44279,
          44371,
          44338,
          44436,
          44393,
          44403,
          44300,
          44330,
          44316,
          44367,
          44375,
          44396,
          44293,
          44333,
          44394,
          44394,
          44324,
          44419,
          44414,
          44298,
          44352,
          44347,
          44309,
          44413,
          44374,
          44337,
          44385,
          44392,
          44373,
          44317,
          44413,
          44369,
          44398,
          44340,
          44354,
          44297,
          44412,
          44319,
          44292,
          44315,
          44386,
          44292,
          44325,
          44379,
          44372,
          44318,
          44316,
          44294,
          44414,
          44360,
          44288,
          44348,
          44329,
          44347,
          44320,
          44423,
          44334,
          44299,
          44432,
          44319
         ],
         "y": [
          10849,
          10806,
          10772,
          10824,
          10941,
          10850,
          10895,
          10810,
          10790,
          10873,
          10774,
          10883,
          10854,
          10886,
          10860,
          10802,
          10781,
          10859,
          10842,
          10779,
          10870,
          10822,
          10877,
          10818,
          10816,
          10823,
          10859,
          10864,
          10771,
          10784,
          10905,
          10771,
          10879,
          10808,
          10873,
          10900,
          10797,
          10901,
          10849,
          10850,
          10762,
          10807,
          10924,
          10839,
          10892,
          10875,
          10847,
          10784,
          10784,
          10792,
          10939,
          10912,
          10774,
          10766,
          10897,
          10853,
          10841,
          10876,
          10855,
          10841,
          10939,
          10825,
          10772,
          10764,
          10851,
          10819,
          10817,
          10857,
          10856,
          10861,
          10890,
          10844,
          10802,
          10818,
          10758,
          10932,
          10919,
          10785,
          10790,
          10847,
          10841,
          10786,
          10813,
          10795,
          10918,
          10837,
          10803,
          10906,
          10871,
          10865,
          10838,
          10898,
          10881,
          10823,
          10822,
          10782,
          10785,
          10936,
          10874,
          10765,
          10763,
          10717,
          10770,
          10823,
          10796,
          10683,
          10821,
          10718,
          10735,
          10770,
          10711,
          10778,
          10672,
          10799,
          10703,
          10719,
          10794,
          10724,
          10770,
          10776,
          10743,
          10841,
          10697,
          10771,
          10772,
          10738,
          10731,
          10810,
          10718,
          10681,
          10754,
          10845,
          10798,
          10795,
          10698,
          10781,
          10761,
          10764,
          10731,
          10752,
          10729,
          10806,
          10834,
          10746,
          10750,
          10839,
          10734,
          10846,
          10682,
          10785,
          10735,
          10775,
          10757,
          10671,
          10779,
          10768,
          10805,
          10799,
          10734,
          10834,
          10837,
          10708,
          10768,
          10797,
          10731,
          10726,
          10723,
          10795,
          10728,
          10686,
          10731,
          10701,
          10709,
          10817,
          10844,
          10786,
          10820,
          10739,
          10758,
          10702,
          10746,
          10714,
          10807,
          10747,
          10731,
          10810,
          10782,
          10815,
          10793,
          10709,
          10703,
          10743,
          10777,
          10752,
          10689,
          10767,
          10815,
          10775,
          10745,
          10735
         ],
         "z": [
          49131,
          49069,
          49133,
          49072,
          49145,
          49142,
          49058,
          49168,
          49140,
          49107,
          49141,
          49162,
          49116,
          49143,
          49223,
          49171,
          49119,
          49178,
          49195,
          49184,
          49194,
          49066,
          49144,
          49102,
          49153,
          49099,
          49120,
          49115,
          49168,
          49194,
          49069,
          49138,
          49124,
          49135,
          49059,
          49211,
          49070,
          49049,
          49157,
          49136,
          49119,
          49142,
          49156,
          49164,
          49069,
          49092,
          49082,
          49095,
          49111,
          49123,
          49129,
          49096,
          49147,
          49163,
          49203,
          49066,
          49084,
          49102,
          49143,
          49134,
          49109,
          49066,
          49143,
          49139,
          49151,
          49064,
          49094,
          49149,
          49094,
          49104,
          49067,
          49068,
          49158,
          49107,
          49108,
          49116,
          49083,
          49063,
          49146,
          49128,
          49076,
          49076,
          49062,
          49163,
          49078,
          49103,
          49169,
          49150,
          49135,
          49184,
          49148,
          49109,
          49136,
          49113,
          49147,
          49116,
          49082,
          49127,
          49144,
          49096,
          49217,
          49237,
          49232,
          49152,
          49227,
          49211,
          49212,
          49256,
          49204,
          49313,
          49196,
          49197,
          49179,
          49172,
          49254,
          49273,
          49203,
          49241,
          49173,
          49255,
          49251,
          49209,
          49184,
          49156,
          49214,
          49200,
          49288,
          49150,
          49166,
          49218,
          49288,
          49196,
          49194,
          49251,
          49264,
          49173,
          49204,
          49310,
          49256,
          49167,
          49160,
          49201,
          49173,
          49216,
          49289,
          49192,
          49250,
          49237,
          49253,
          49146,
          49148,
          49271,
          49178,
          49200,
          49139,
          49135,
          49234,
          49210,
          49287,
          49253,
          49207,
          49251,
          49215,
          49208,
          49200,
          49261,
          49228,
          49183,
          49288,
          49172,
          49238,
          49159,
          49239,
          49283,
          49240,
          49280,
          49197,
          49168,
          49210,
          49280,
          49216,
          49234,
          49207,
          49222,
          49254,
          49229,
          49262,
          49169,
          49222,
          49254,
          49202,
          49286,
          49160,
          49178,
          49197,
          49171,
          49140,
          49173,
          49198,
          49298
         ]
        },
        {
         "marker": {
          "color": "red",
          "size": 5
         },
         "mode": "markers+lines",
         "name": "Closest Pair/Collision",
         "type": "scatter3d",
         "x": [
          44305,
          44301
         ],
         "y": [
          10774,
          10774
         ],
         "z": [
          49147,
          49141
         ]
        }
       ],
       "layout": {
        "margin": {
         "b": 0,
         "l": 0,
         "r": 0,
         "t": 50
        },
        "scene": {
         "xaxis": {
          "title": {
           "text": "X-axis"
          }
         },
         "yaxis": {
          "title": {
           "text": "Y-axis"
          }
         },
         "zaxis": {
          "title": {
           "text": "Z-axis"
          }
         }
        },
        "template": {
         "data": {
          "bar": [
           {
            "error_x": {
             "color": "#2a3f5f"
            },
            "error_y": {
             "color": "#2a3f5f"
            },
            "marker": {
             "line": {
              "color": "#E5ECF6",
              "width": 0.5
             },
             "pattern": {
              "fillmode": "overlay",
              "size": 10,
              "solidity": 0.2
             }
            },
            "type": "bar"
           }
          ],
          "barpolar": [
           {
            "marker": {
             "line": {
              "color": "#E5ECF6",
              "width": 0.5
             },
             "pattern": {
              "fillmode": "overlay",
              "size": 10,
              "solidity": 0.2
             }
            },
            "type": "barpolar"
           }
          ],
          "carpet": [
           {
            "aaxis": {
             "endlinecolor": "#2a3f5f",
             "gridcolor": "white",
             "linecolor": "white",
             "minorgridcolor": "white",
             "startlinecolor": "#2a3f5f"
            },
            "baxis": {
             "endlinecolor": "#2a3f5f",
             "gridcolor": "white",
             "linecolor": "white",
             "minorgridcolor": "white",
             "startlinecolor": "#2a3f5f"
            },
            "type": "carpet"
           }
          ],
          "choropleth": [
           {
            "colorbar": {
             "outlinewidth": 0,
             "ticks": ""
            },
            "type": "choropleth"
           }
          ],
          "contour": [
           {
            "colorbar": {
             "outlinewidth": 0,
             "ticks": ""
            },
            "colorscale": [
             [
              0,
              "#0d0887"
             ],
             [
              0.1111111111111111,
              "#46039f"
             ],
             [
              0.2222222222222222,
              "#7201a8"
             ],
             [
              0.3333333333333333,
              "#9c179e"
             ],
             [
              0.4444444444444444,
              "#bd3786"
             ],
             [
              0.5555555555555556,
              "#d8576b"
             ],
             [
              0.6666666666666666,
              "#ed7953"
             ],
             [
              0.7777777777777778,
              "#fb9f3a"
             ],
             [
              0.8888888888888888,
              "#fdca26"
             ],
             [
              1,
              "#f0f921"
             ]
            ],
            "type": "contour"
           }
          ],
          "contourcarpet": [
           {
            "colorbar": {
             "outlinewidth": 0,
             "ticks": ""
            },
            "type": "contourcarpet"
           }
          ],
          "heatmap": [
           {
            "colorbar": {
             "outlinewidth": 0,
             "ticks": ""
            },
            "colorscale": [
             [
              0,
              "#0d0887"
             ],
             [
              0.1111111111111111,
              "#46039f"
             ],
             [
              0.2222222222222222,
              "#7201a8"
             ],
             [
              0.3333333333333333,
              "#9c179e"
             ],
             [
              0.4444444444444444,
              "#bd3786"
             ],
             [
              0.5555555555555556,
              "#d8576b"
             ],
             [
              0.6666666666666666,
              "#ed7953"
             ],
             [
              0.7777777777777778,
              "#fb9f3a"
             ],
             [
              0.8888888888888888,
              "#fdca26"
             ],
             [
              1,
              "#f0f921"
             ]
            ],
            "type": "heatmap"
           }
          ],
          "heatmapgl": [
           {
            "colorbar": {
             "outlinewidth": 0,
             "ticks": ""
            },
            "colorscale": [
             [
              0,
              "#0d0887"
             ],
             [
              0.1111111111111111,
              "#46039f"
             ],
             [
              0.2222222222222222,
              "#7201a8"
             ],
             [
              0.3333333333333333,
              "#9c179e"
             ],
             [
              0.4444444444444444,
              "#bd3786"
             ],
             [
              0.5555555555555556,
              "#d8576b"
             ],
             [
              0.6666666666666666,
              "#ed7953"
             ],
             [
              0.7777777777777778,
              "#fb9f3a"
             ],
             [
              0.8888888888888888,
              "#fdca26"
             ],
             [
              1,
              "#f0f921"
             ]
            ],
            "type": "heatmapgl"
           }
          ],
          "histogram": [
           {
            "marker": {
             "pattern": {
              "fillmode": "overlay",
              "size": 10,
              "solidity": 0.2
             }
            },
            "type": "histogram"
           }
          ],
          "histogram2d": [
           {
            "colorbar": {
             "outlinewidth": 0,
             "ticks": ""
            },
            "colorscale": [
             [
              0,
              "#0d0887"
             ],
             [
              0.1111111111111111,
              "#46039f"
             ],
             [
              0.2222222222222222,
              "#7201a8"
             ],
             [
              0.3333333333333333,
              "#9c179e"
             ],
             [
              0.4444444444444444,
              "#bd3786"
             ],
             [
              0.5555555555555556,
              "#d8576b"
             ],
             [
              0.6666666666666666,
              "#ed7953"
             ],
             [
              0.7777777777777778,
              "#fb9f3a"
             ],
             [
              0.8888888888888888,
              "#fdca26"
             ],
             [
              1,
              "#f0f921"
             ]
            ],
            "type": "histogram2d"
           }
          ],
          "histogram2dcontour": [
           {
            "colorbar": {
             "outlinewidth": 0,
             "ticks": ""
            },
            "colorscale": [
             [
              0,
              "#0d0887"
             ],
             [
              0.1111111111111111,
              "#46039f"
             ],
             [
              0.2222222222222222,
              "#7201a8"
             ],
             [
              0.3333333333333333,
              "#9c179e"
             ],
             [
              0.4444444444444444,
              "#bd3786"
             ],
             [
              0.5555555555555556,
              "#d8576b"
             ],
             [
              0.6666666666666666,
              "#ed7953"
             ],
             [
              0.7777777777777778,
              "#fb9f3a"
             ],
             [
              0.8888888888888888,
              "#fdca26"
             ],
             [
              1,
              "#f0f921"
             ]
            ],
            "type": "histogram2dcontour"
           }
          ],
          "mesh3d": [
           {
            "colorbar": {
             "outlinewidth": 0,
             "ticks": ""
            },
            "type": "mesh3d"
           }
          ],
          "parcoords": [
           {
            "line": {
             "colorbar": {
              "outlinewidth": 0,
              "ticks": ""
             }
            },
            "type": "parcoords"
           }
          ],
          "pie": [
           {
            "automargin": true,
            "type": "pie"
           }
          ],
          "scatter": [
           {
            "fillpattern": {
             "fillmode": "overlay",
             "size": 10,
             "solidity": 0.2
            },
            "type": "scatter"
           }
          ],
          "scatter3d": [
           {
            "line": {
             "colorbar": {
              "outlinewidth": 0,
              "ticks": ""
             }
            },
            "marker": {
             "colorbar": {
              "outlinewidth": 0,
              "ticks": ""
             }
            },
            "type": "scatter3d"
           }
          ],
          "scattercarpet": [
           {
            "marker": {
             "colorbar": {
              "outlinewidth": 0,
              "ticks": ""
             }
            },
            "type": "scattercarpet"
           }
          ],
          "scattergeo": [
           {
            "marker": {
             "colorbar": {
              "outlinewidth": 0,
              "ticks": ""
             }
            },
            "type": "scattergeo"
           }
          ],
          "scattergl": [
           {
            "marker": {
             "colorbar": {
              "outlinewidth": 0,
              "ticks": ""
             }
            },
            "type": "scattergl"
           }
          ],
          "scattermapbox": [
           {
            "marker": {
             "colorbar": {
              "outlinewidth": 0,
              "ticks": ""
             }
            },
            "type": "scattermapbox"
           }
          ],
          "scatterpolar": [
           {
            "marker": {
             "colorbar": {
              "outlinewidth": 0,
              "ticks": ""
             }
            },
            "type": "scatterpolar"
           }
          ],
          "scatterpolargl": [
           {
            "marker": {
             "colorbar": {
              "outlinewidth": 0,
              "ticks": ""
             }
            },
            "type": "scatterpolargl"
           }
          ],
          "scatterternary": [
           {
            "marker": {
             "colorbar": {
              "outlinewidth": 0,
              "ticks": ""
             }
            },
            "type": "scatterternary"
           }
          ],
          "surface": [
           {
            "colorbar": {
             "outlinewidth": 0,
             "ticks": ""
            },
            "colorscale": [
             [
              0,
              "#0d0887"
             ],
             [
              0.1111111111111111,
              "#46039f"
             ],
             [
              0.2222222222222222,
              "#7201a8"
             ],
             [
              0.3333333333333333,
              "#9c179e"
             ],
             [
              0.4444444444444444,
              "#bd3786"
             ],
             [
              0.5555555555555556,
              "#d8576b"
             ],
             [
              0.6666666666666666,
              "#ed7953"
             ],
             [
              0.7777777777777778,
              "#fb9f3a"
             ],
             [
              0.8888888888888888,
              "#fdca26"
             ],
             [
              1,
              "#f0f921"
             ]
            ],
            "type": "surface"
           }
          ],
          "table": [
           {
            "cells": {
             "fill": {
              "color": "#EBF0F8"
             },
             "line": {
              "color": "white"
             }
            },
            "header": {
             "fill": {
              "color": "#C8D4E3"
             },
             "line": {
              "color": "white"
             }
            },
            "type": "table"
           }
          ]
         },
         "layout": {
          "annotationdefaults": {
           "arrowcolor": "#2a3f5f",
           "arrowhead": 0,
           "arrowwidth": 1
          },
          "autotypenumbers": "strict",
          "coloraxis": {
           "colorbar": {
            "outlinewidth": 0,
            "ticks": ""
           }
          },
          "colorscale": {
           "diverging": [
            [
             0,
             "#8e0152"
            ],
            [
             0.1,
             "#c51b7d"
            ],
            [
             0.2,
             "#de77ae"
            ],
            [
             0.3,
             "#f1b6da"
            ],
            [
             0.4,
             "#fde0ef"
            ],
            [
             0.5,
             "#f7f7f7"
            ],
            [
             0.6,
             "#e6f5d0"
            ],
            [
             0.7,
             "#b8e186"
            ],
            [
             0.8,
             "#7fbc41"
            ],
            [
             0.9,
             "#4d9221"
            ],
            [
             1,
             "#276419"
            ]
           ],
           "sequential": [
            [
             0,
             "#0d0887"
            ],
            [
             0.1111111111111111,
             "#46039f"
            ],
            [
             0.2222222222222222,
             "#7201a8"
            ],
            [
             0.3333333333333333,
             "#9c179e"
            ],
            [
             0.4444444444444444,
             "#bd3786"
            ],
            [
             0.5555555555555556,
             "#d8576b"
            ],
            [
             0.6666666666666666,
             "#ed7953"
            ],
            [
             0.7777777777777778,
             "#fb9f3a"
            ],
            [
             0.8888888888888888,
             "#fdca26"
            ],
            [
             1,
             "#f0f921"
            ]
           ],
           "sequentialminus": [
            [
             0,
             "#0d0887"
            ],
            [
             0.1111111111111111,
             "#46039f"
            ],
            [
             0.2222222222222222,
             "#7201a8"
            ],
            [
             0.3333333333333333,
             "#9c179e"
            ],
            [
             0.4444444444444444,
             "#bd3786"
            ],
            [
             0.5555555555555556,
             "#d8576b"
            ],
            [
             0.6666666666666666,
             "#ed7953"
            ],
            [
             0.7777777777777778,
             "#fb9f3a"
            ],
            [
             0.8888888888888888,
             "#fdca26"
            ],
            [
             1,
             "#f0f921"
            ]
           ]
          },
          "colorway": [
           "#636efa",
           "#EF553B",
           "#00cc96",
           "#ab63fa",
           "#FFA15A",
           "#19d3f3",
           "#FF6692",
           "#B6E880",
           "#FF97FF",
           "#FECB52"
          ],
          "font": {
           "color": "#2a3f5f"
          },
          "geo": {
           "bgcolor": "white",
           "lakecolor": "white",
           "landcolor": "#E5ECF6",
           "showlakes": true,
           "showland": true,
           "subunitcolor": "white"
          },
          "hoverlabel": {
           "align": "left"
          },
          "hovermode": "closest",
          "mapbox": {
           "style": "light"
          },
          "paper_bgcolor": "white",
          "plot_bgcolor": "#E5ECF6",
          "polar": {
           "angularaxis": {
            "gridcolor": "white",
            "linecolor": "white",
            "ticks": ""
           },
           "bgcolor": "#E5ECF6",
           "radialaxis": {
            "gridcolor": "white",
            "linecolor": "white",
            "ticks": ""
           }
          },
          "scene": {
           "xaxis": {
            "backgroundcolor": "#E5ECF6",
            "gridcolor": "white",
            "gridwidth": 2,
            "linecolor": "white",
            "showbackground": true,
            "ticks": "",
            "zerolinecolor": "white"
           },
           "yaxis": {
            "backgroundcolor": "#E5ECF6",
            "gridcolor": "white",
            "gridwidth": 2,
            "linecolor": "white",
            "showbackground": true,
            "ticks": "",
            "zerolinecolor": "white"
           },
           "zaxis": {
            "backgroundcolor": "#E5ECF6",
            "gridcolor": "white",
            "gridwidth": 2,
            "linecolor": "white",
            "showbackground": true,
            "ticks": "",
            "zerolinecolor": "white"
           }
          },
          "shapedefaults": {
           "line": {
            "color": "#2a3f5f"
           }
          },
          "ternary": {
           "aaxis": {
            "gridcolor": "white",
            "linecolor": "white",
            "ticks": ""
           },
           "baxis": {
            "gridcolor": "white",
            "linecolor": "white",
            "ticks": ""
           },
           "bgcolor": "#E5ECF6",
           "caxis": {
            "gridcolor": "white",
            "linecolor": "white",
            "ticks": ""
           }
          },
          "title": {
           "x": 0.05
          },
          "xaxis": {
           "automargin": true,
           "gridcolor": "white",
           "linecolor": "white",
           "ticks": "",
           "title": {
            "standoff": 15
           },
           "zerolinecolor": "white",
           "zerolinewidth": 2
          },
          "yaxis": {
           "automargin": true,
           "gridcolor": "white",
           "linecolor": "white",
           "ticks": "",
           "title": {
            "standoff": 15
           },
           "zerolinecolor": "white",
           "zerolinewidth": 2
          }
         }
        },
        "title": {
         "text": "3D Points with Closest Pairs Highlighted"
        }
       }
      }
     },
     "metadata": {},
     "output_type": "display_data"
    }
   ],
   "source": [
    "fig.update_layout(title='3D Points with Closest Pairs Highlighted',\n",
    "                  scene=dict(xaxis_title='X-axis',\n",
    "                             yaxis_title='Y-axis',\n",
    "                             zaxis_title='Z-axis'),\n",
    "                  margin=dict(l=0, r=0, b=0, t=50))"
   ]
  },
  {
   "cell_type": "code",
   "execution_count": null,
   "id": "d21a6867-72c9-48b4-97b3-c2e04915bdde",
   "metadata": {},
   "outputs": [],
   "source": []
  },
  {
   "cell_type": "code",
   "execution_count": null,
   "id": "ba66d4ed-fa57-4fa1-8d89-0b9449b39aa0",
   "metadata": {},
   "outputs": [],
   "source": []
  },
  {
   "cell_type": "code",
   "execution_count": null,
   "id": "78b31af2-1a9f-481c-ae4c-2093c5fb3478",
   "metadata": {},
   "outputs": [],
   "source": []
  },
  {
   "cell_type": "code",
   "execution_count": null,
   "id": "aeef9c2f-e845-4a7e-bc9c-65978d59969b",
   "metadata": {},
   "outputs": [],
   "source": []
  }
 ],
 "metadata": {
  "kernelspec": {
   "display_name": "Python 3 (ipykernel)",
   "language": "python",
   "name": "python3"
  },
  "language_info": {
   "codemirror_mode": {
    "name": "ipython",
    "version": 3
   },
   "file_extension": ".py",
   "mimetype": "text/x-python",
   "name": "python",
   "nbconvert_exporter": "python",
   "pygments_lexer": "ipython3",
   "version": "3.11.5"
  }
 },
 "nbformat": 4,
 "nbformat_minor": 5
}
